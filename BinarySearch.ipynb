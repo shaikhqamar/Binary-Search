{
 "cells": [
  {
   "cell_type": "code",
   "execution_count": 2,
   "id": "7206ab04",
   "metadata": {},
   "outputs": [
    {
     "name": "stdout",
     "output_type": "stream",
     "text": [
      "[1, 2, 3, 4, 5, 6, 7, 8, 9, 10, 11, 12, 13, 14, 15, 16, 17, 18, 19]\n",
      "Number u wanted to search : 33\n"
     ]
    },
    {
     "data": {
      "text/plain": [
       "\"Value isn't present in the list.\""
      ]
     },
     "execution_count": 2,
     "metadata": {},
     "output_type": "execute_result"
    }
   ],
   "source": [
    "# By Iterative Method\n",
    "lst = [i for i in range(1,20)]\n",
    "print(lst)\n",
    "\n",
    "def binsrch():\n",
    "    \n",
    "    low = 0\n",
    "    high = len(lst)\n",
    "    flag = 0\n",
    "    num = int(input(\"Number u wanted to search : \"))\n",
    "   \n",
    "    while  flag==0:\n",
    "        mid = (low+high)//2\n",
    "        if num in lst:\n",
    "            if mid==num:\n",
    "                flag +=1\n",
    "            elif mid<num:\n",
    "                low = mid+1\n",
    "            elif mid>num:\n",
    "                high = mid-1\n",
    "        else:\n",
    "            flag+=1\n",
    "            return \"Value isn't present in the list.\"\n",
    "    print(\"Your searched {}, is present at index {} \".format(num,lst.index(num)))\n",
    "binsrch()"
   ]
  },
  {
   "cell_type": "code",
   "execution_count": null,
   "id": "308e919e",
   "metadata": {},
   "outputs": [],
   "source": []
  },
  {
   "cell_type": "code",
   "execution_count": null,
   "id": "354c1a42",
   "metadata": {},
   "outputs": [],
   "source": []
  },
  {
   "cell_type": "code",
   "execution_count": 30,
   "id": "9cc871f0",
   "metadata": {},
   "outputs": [
    {
     "name": "stdout",
     "output_type": "stream",
     "text": [
      "[1, 2, 3, 4, 5, 6, 7, 8, 9, 10, 11, 12, 13, 14, 15, 16, 17, 18, 19]\n",
      "Value you wanted to search :9\n"
     ]
    },
    {
     "data": {
      "text/plain": [
       "'9 is at idndex 8'"
      ]
     },
     "execution_count": 30,
     "metadata": {},
     "output_type": "execute_result"
    }
   ],
   "source": [
    "# By Recursion \n",
    "lst = [i for i in range(1,20)]\n",
    "print(lst)\n",
    "\n",
    "low = 0\n",
    "high = len(lst)\n",
    "num = int(input(\"Value you wanted to search :\"))\n",
    "\n",
    "def binsrch_rec(low,high):    \n",
    "    mid = (low+high)//2\n",
    "    if num in lst: \n",
    "        if mid == num:\n",
    "            return \"{} is at idndex {}\".format(num,lst.index(num))\n",
    "        elif mid<num:\n",
    "            low = mid+1\n",
    "            #print(\"Now our updated lowest value is {} and highest value is {}\".format(low,len(lst)))\n",
    "            return binsrch_rec(low,high)\n",
    "        elif mid>num:\n",
    "            high = mid-1\n",
    "            #print(\"Now our updated Highest value is {} and lowest value is {}\".format(len(lst),low))\n",
    "            return binsrch_rec(low,high)\n",
    "    else:\n",
    "        print(\"Value isn't in the list.\")\n",
    "binsrch_rec(low,high)"
   ]
  },
  {
   "cell_type": "code",
   "execution_count": null,
   "id": "313d34c7",
   "metadata": {},
   "outputs": [],
   "source": []
  },
  {
   "cell_type": "code",
   "execution_count": null,
   "id": "68fb56a0",
   "metadata": {},
   "outputs": [],
   "source": []
  },
  {
   "cell_type": "code",
   "execution_count": null,
   "id": "94722e4b",
   "metadata": {},
   "outputs": [],
   "source": []
  },
  {
   "cell_type": "code",
   "execution_count": null,
   "id": "464ad135",
   "metadata": {},
   "outputs": [],
   "source": []
  }
 ],
 "metadata": {
  "kernelspec": {
   "display_name": "Python 3",
   "language": "python",
   "name": "python3"
  },
  "language_info": {
   "codemirror_mode": {
    "name": "ipython",
    "version": 3
   },
   "file_extension": ".py",
   "mimetype": "text/x-python",
   "name": "python",
   "nbconvert_exporter": "python",
   "pygments_lexer": "ipython3",
   "version": "3.8.10"
  }
 },
 "nbformat": 4,
 "nbformat_minor": 5
}
